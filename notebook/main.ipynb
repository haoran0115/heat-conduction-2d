{
 "cells": [
  {
   "cell_type": "markdown",
   "id": "fdf82992-631b-4306-abdc-fd84b156bcc5",
   "metadata": {},
   "source": [
    "# 2D Heat Conduction FDM Python Implementation"
   ]
  },
  {
   "cell_type": "markdown",
   "id": "b12d84f7-35a9-44a1-9067-42def22ef3c4",
   "metadata": {},
   "source": [
    "## Step 0: import essential packages"
   ]
  },
  {
   "cell_type": "code",
   "execution_count": 1,
   "id": "0444351d-b4a9-471a-9bce-bf68a5abc42d",
   "metadata": {},
   "outputs": [],
   "source": [
    "import numpy as np\n",
    "import matplotlib.pyplot as plt\n",
    "from matplotlib.animation import FuncAnimation\n",
    "from IPython.display import HTML"
   ]
  },
  {
   "cell_type": "markdown",
   "id": "1d8fd50f-f241-4652-9d91-74ebdb1ef58e",
   "metadata": {
    "tags": []
   },
   "source": [
    "## Step 1: initialization\n",
    "Setup some essential variables like boundary and initial temperature, $xy$ grid, and shape of boundary."
   ]
  },
  {
   "cell_type": "code",
   "execution_count": 2,
   "id": "d27ccb11-ab2c-470f-b00d-dba203697432",
   "metadata": {},
   "outputs": [],
   "source": [
    "# initialization\n",
    "T  = 400.00   # environment temperature\n",
    "T0 = 298.15   # initial temperature\n",
    "alpha = 1.0   # rate of diffussion\n",
    "t0 = 0.0      # start time\n",
    "tf = 10.0     # stop time\n",
    "dt = 0.01     # difference in time\n",
    "dx = 0.2      # grid resolution for x\n",
    "dy = 0.2      # grid resolution for y\n",
    "x_min = 0.0   # x range\n",
    "y_min = 0.0   #\n",
    "x_max = 10.0  # y range\n",
    "y_max = 10.0  # \n",
    "nx = int((x_max-x_min)/dx) + 1\n",
    "ny = int((y_max-y_min)/dy) + 1\n",
    "nt = int((tf - t0)/dt)\n",
    "x = np.linspace(x_min, x_max, nx)\n",
    "y = np.linspace(y_min, y_max, ny)\n",
    "yv, xv = np.meshgrid(y, x)\n",
    "u = np.ones(xv.shape) * T0 # mesh of temperature\n",
    "U = np.zeros([nx, ny, nt+1])\n",
    "\n",
    "# boundary condition\n",
    "# temperatures on (and out of) the boundary of mesh\n",
    "# should constantly equal to T\n",
    "# define boundary as a circle\n",
    "bound = []\n",
    "no_bound = []\n",
    "cx, cy = 5.0, 5.0 # center of circle\n",
    "r      = 4.0      # radius of circle\n",
    "for i in range(nx):\n",
    "    for j in range(ny):\n",
    "        # circle boundary\n",
    "        if (x[i]-cx)**2 + (y[j]-cy)**2 >= r**2:\n",
    "            bound.append([i, j])\n",
    "            u[i, j] = T\n",
    "        else:\n",
    "            no_bound.append([i, j])"
   ]
  },
  {
   "cell_type": "code",
   "execution_count": 3,
   "id": "f6df3171-c132-4b70-90d2-763d88801e00",
   "metadata": {},
   "outputs": [
    {
     "data": {
      "text/plain": [
       "<matplotlib.colorbar.Colorbar at 0x2b1757469c90>"
      ]
     },
     "execution_count": 3,
     "metadata": {},
     "output_type": "execute_result"
    },
    {
     "data": {
      "image/png": "[encoded data removed]",
      "text/plain": [
       "<Figure size 432x288 with 2 Axes>"
      ]
     },
     "metadata": {
      "needs_background": "light"
     },
     "output_type": "display_data"
    }
   ],
   "source": [
    "# display the initial condition\n",
    "plt.imshow(u, cmap=\"bwr\", vmin=min(T, T0), vmax=max(T, T0), alpha=0.6)\n",
    "plt.title(\"$t = {:.2f}$\".format(t0))\n",
    "plt.colorbar()"
   ]
  },
  {
   "cell_type": "markdown",
   "id": "f3088ef8-5949-4bba-b9da-dcea33b49a49",
   "metadata": {},
   "source": [
    "## Step 2: define Laplician function"
   ]
  },
  {
   "cell_type": "code",
   "execution_count": 4,
   "id": "53f12777-d68b-4e51-9f17-4744c2f8b753",
   "metadata": {},
   "outputs": [],
   "source": [
    "def laplacian(f, i, j, dx, dy):\n",
    "    f_ddx = f[i+1, j] - 2*f[i, j] + f[i-1, j]\n",
    "    f_ddy = f[i, j+1] - 2*f[i, j] + f[i, j-1]\n",
    "    return f_ddx/dx**2 + f_ddy/dy**2"
   ]
  },
  {
   "cell_type": "markdown",
   "id": "310d8a33-a062-41f0-a383-8d5cb444fdce",
   "metadata": {},
   "source": [
    "## Step 3: main program"
   ]
  },
  {
   "cell_type": "code",
   "execution_count": 5,
   "id": "b27309ec-139c-4b03-85ce-9f4d747052d0",
   "metadata": {},
   "outputs": [],
   "source": [
    "U[:, :, 0] = np.copy(u[:, :])\n",
    "for t in range(nt):\n",
    "    U[:, :, t+1] = np.copy(U[:, :, t])\n",
    "    for (i, j) in no_bound:\n",
    "        U[i, j, t+1] = U[i, j, t] + dt*alpha*laplacian(U[:, :, t], i, j, dx, dy)"
   ]
  },
  {
   "cell_type": "markdown",
   "id": "640740f3-7d6d-4185-b3cc-94882d888cfd",
   "metadata": {},
   "source": [
    "## Step 4: generate animation"
   ]
  },
  {
   "cell_type": "code",
   "execution_count": 6,
   "id": "9feed435-99ce-464d-b065-a8fc497730bf",
   "metadata": {},
   "outputs": [
    {
     "data": {
      "image/png": "[encoded data removed]",
      "text/plain": [
       "<Figure size 432x288 with 2 Axes>"
      ]
     },
     "metadata": {
      "needs_background": "light"
     },
     "output_type": "display_data"
    }
   ],
   "source": [
    "anime_idx = np.arange(0, nt+1, 50)\n",
    "fig, ax = plt.subplots()\n",
    "plot = ax.imshow(U[:, :, 0], cmap=\"bwr\", vmin=min(T, T0), vmax=max(T, T0), alpha=0.6)\n",
    "fig.colorbar(plot)\n",
    "def update(frame):\n",
    "    ax.cla() # clear imshow figure\n",
    "    plot = ax.imshow(U[:, :, frame], cmap=\"bwr\", vmin=min(T, T0), vmax=max(T, T0), alpha=0.6)\n",
    "    ax.set_title(\"$t = {:.2f}$\".format(frame*dt+t0))\n",
    "ani = FuncAnimation(fig, update, frames=anime_idx)\n",
    "ani.save('heat_conduct.gif',writer='imagemagick')"
   ]
  }
 ],
 "metadata": {
  "kernelspec": {
   "display_name": "qm",
   "language": "python",
   "name": "qm"
  },
  "language_info": {
   "codemirror_mode": {
    "name": "ipython",
    "version": 3
   },
   "file_extension": ".py",
   "mimetype": "text/x-python",
   "name": "python",
   "nbconvert_exporter": "python",
   "pygments_lexer": "ipython3",
   "version": "3.7.10"
  }
 },
 "nbformat": 4,
 "nbformat_minor": 5
}
